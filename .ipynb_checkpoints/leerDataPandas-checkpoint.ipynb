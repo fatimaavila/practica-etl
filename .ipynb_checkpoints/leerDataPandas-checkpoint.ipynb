{
 "cells": [
  {
   "cell_type": "code",
   "execution_count": 2,
   "id": "910eadc8-2f59-4787-8b4a-938a44694b40",
   "metadata": {
    "tags": []
   },
   "outputs": [
    {
     "name": "stdout",
     "output_type": "stream",
     "text": [
      "Collecting pandas\n",
      "  Downloading pandas-1.5.3-cp310-cp310-manylinux_2_17_x86_64.manylinux2014_x86_64.whl (12.1 MB)\n",
      "\u001b[2K     \u001b[90m━━━━━━━━━━━━━━━━━━━━━━━━━━━━━━━━━━━━━━━━\u001b[0m \u001b[32m12.1/12.1 MB\u001b[0m \u001b[31m7.0 MB/s\u001b[0m eta \u001b[36m0:00:00\u001b[0m00:01\u001b[0m00:01\u001b[0m\n",
      "\u001b[?25hRequirement already satisfied: pytz>=2020.1 in /opt/conda/lib/python3.10/site-packages (from pandas) (2022.7.1)\n",
      "Collecting numpy>=1.21.0\n",
      "  Downloading numpy-1.24.2-cp310-cp310-manylinux_2_17_x86_64.manylinux2014_x86_64.whl (17.3 MB)\n",
      "\u001b[2K     \u001b[90m━━━━━━━━━━━━━━━━━━━━━━━━━━━━━━━━━━━━━━━━\u001b[0m \u001b[32m17.3/17.3 MB\u001b[0m \u001b[31m5.9 MB/s\u001b[0m eta \u001b[36m0:00:00\u001b[0m00:01\u001b[0m00:01\u001b[0m\n",
      "\u001b[?25hRequirement already satisfied: python-dateutil>=2.8.1 in /opt/conda/lib/python3.10/site-packages (from pandas) (2.8.2)\n",
      "Requirement already satisfied: six>=1.5 in /opt/conda/lib/python3.10/site-packages (from python-dateutil>=2.8.1->pandas) (1.16.0)\n",
      "Installing collected packages: numpy, pandas\n",
      "Successfully installed numpy-1.24.2 pandas-1.5.3\n"
     ]
    }
   ],
   "source": [
    "!pip install pandas"
   ]
  },
  {
   "cell_type": "code",
   "execution_count": 5,
   "id": "bbd101df-cae9-47c4-b077-09f8e7b17571",
   "metadata": {
    "tags": []
   },
   "outputs": [],
   "source": [
    "import pandas as pd\n",
    "import json"
   ]
  },
  {
   "cell_type": "code",
   "execution_count": 6,
   "id": "07de6cad-5ccf-43d1-af8f-ddc2af5a9729",
   "metadata": {
    "tags": []
   },
   "outputs": [],
   "source": [
    "data = json.load(open('mpd.slice.1000-1999.json'))"
   ]
  },
  {
   "cell_type": "code",
   "execution_count": 13,
   "id": "9521004d-c651-45b9-907f-d815e073be8f",
   "metadata": {
    "tags": []
   },
   "outputs": [],
   "source": [
    "playlists=data['playlists']"
   ]
  },
  {
   "cell_type": "code",
   "execution_count": 14,
   "id": "cc4d7375-8d24-4791-a5aa-3411845cc571",
   "metadata": {
    "tags": []
   },
   "outputs": [
    {
     "data": {
      "text/html": [
       "<div>\n",
       "<style scoped>\n",
       "    .dataframe tbody tr th:only-of-type {\n",
       "        vertical-align: middle;\n",
       "    }\n",
       "\n",
       "    .dataframe tbody tr th {\n",
       "        vertical-align: top;\n",
       "    }\n",
       "\n",
       "    .dataframe thead th {\n",
       "        text-align: right;\n",
       "    }\n",
       "</style>\n",
       "<table border=\"1\" class=\"dataframe\">\n",
       "  <thead>\n",
       "    <tr style=\"text-align: right;\">\n",
       "      <th></th>\n",
       "      <th>name</th>\n",
       "      <th>collaborative</th>\n",
       "      <th>pid</th>\n",
       "      <th>modified_at</th>\n",
       "      <th>num_tracks</th>\n",
       "      <th>num_albums</th>\n",
       "      <th>num_followers</th>\n",
       "      <th>tracks</th>\n",
       "      <th>num_edits</th>\n",
       "      <th>duration_ms</th>\n",
       "      <th>num_artists</th>\n",
       "      <th>description</th>\n",
       "    </tr>\n",
       "  </thead>\n",
       "  <tbody>\n",
       "    <tr>\n",
       "      <th>0</th>\n",
       "      <td>disney</td>\n",
       "      <td>false</td>\n",
       "      <td>1000</td>\n",
       "      <td>1457827200</td>\n",
       "      <td>189</td>\n",
       "      <td>16</td>\n",
       "      <td>1</td>\n",
       "      <td>[{'pos': 0, 'artist_name': 'Original Broadway ...</td>\n",
       "      <td>4</td>\n",
       "      <td>31428282</td>\n",
       "      <td>65</td>\n",
       "      <td>NaN</td>\n",
       "    </tr>\n",
       "    <tr>\n",
       "      <th>1</th>\n",
       "      <td>Indie Electro</td>\n",
       "      <td>false</td>\n",
       "      <td>1001</td>\n",
       "      <td>1417824000</td>\n",
       "      <td>165</td>\n",
       "      <td>18</td>\n",
       "      <td>2</td>\n",
       "      <td>[{'pos': 0, 'artist_name': 'The Octopus Projec...</td>\n",
       "      <td>2</td>\n",
       "      <td>38241566</td>\n",
       "      <td>8</td>\n",
       "      <td>NaN</td>\n",
       "    </tr>\n",
       "    <tr>\n",
       "      <th>2</th>\n",
       "      <td>jack &amp; jack</td>\n",
       "      <td>false</td>\n",
       "      <td>1002</td>\n",
       "      <td>1465430400</td>\n",
       "      <td>17</td>\n",
       "      <td>14</td>\n",
       "      <td>1</td>\n",
       "      <td>[{'pos': 0, 'artist_name': 'Jack &amp; Jack', 'tra...</td>\n",
       "      <td>3</td>\n",
       "      <td>3549358</td>\n",
       "      <td>3</td>\n",
       "      <td>NaN</td>\n",
       "    </tr>\n",
       "    <tr>\n",
       "      <th>3</th>\n",
       "      <td>vibes</td>\n",
       "      <td>false</td>\n",
       "      <td>1003</td>\n",
       "      <td>1498435200</td>\n",
       "      <td>225</td>\n",
       "      <td>195</td>\n",
       "      <td>2</td>\n",
       "      <td>[{'pos': 0, 'artist_name': 'LANY', 'track_uri'...</td>\n",
       "      <td>91</td>\n",
       "      <td>51242585</td>\n",
       "      <td>157</td>\n",
       "      <td>NaN</td>\n",
       "    </tr>\n",
       "    <tr>\n",
       "      <th>4</th>\n",
       "      <td>Indie</td>\n",
       "      <td>false</td>\n",
       "      <td>1004</td>\n",
       "      <td>1498608000</td>\n",
       "      <td>165</td>\n",
       "      <td>118</td>\n",
       "      <td>1</td>\n",
       "      <td>[{'pos': 0, 'artist_name': 'Youth Lagoon', 'tr...</td>\n",
       "      <td>74</td>\n",
       "      <td>42601098</td>\n",
       "      <td>92</td>\n",
       "      <td>NaN</td>\n",
       "    </tr>\n",
       "  </tbody>\n",
       "</table>\n",
       "</div>"
      ],
      "text/plain": [
       "            name collaborative   pid  modified_at  num_tracks  num_albums  \\\n",
       "0         disney         false  1000   1457827200         189          16   \n",
       "1  Indie Electro         false  1001   1417824000         165          18   \n",
       "2    jack & jack         false  1002   1465430400          17          14   \n",
       "3          vibes         false  1003   1498435200         225         195   \n",
       "4          Indie         false  1004   1498608000         165         118   \n",
       "\n",
       "   num_followers                                             tracks  \\\n",
       "0              1  [{'pos': 0, 'artist_name': 'Original Broadway ...   \n",
       "1              2  [{'pos': 0, 'artist_name': 'The Octopus Projec...   \n",
       "2              1  [{'pos': 0, 'artist_name': 'Jack & Jack', 'tra...   \n",
       "3              2  [{'pos': 0, 'artist_name': 'LANY', 'track_uri'...   \n",
       "4              1  [{'pos': 0, 'artist_name': 'Youth Lagoon', 'tr...   \n",
       "\n",
       "   num_edits  duration_ms  num_artists description  \n",
       "0          4     31428282           65         NaN  \n",
       "1          2     38241566            8         NaN  \n",
       "2          3      3549358            3         NaN  \n",
       "3         91     51242585          157         NaN  \n",
       "4         74     42601098           92         NaN  "
      ]
     },
     "execution_count": 14,
     "metadata": {},
     "output_type": "execute_result"
    }
   ],
   "source": [
    "df = pd.DataFrame.from_dict(playlists)\n",
    "df.head()"
   ]
  }
 ],
 "metadata": {
  "kernelspec": {
   "display_name": "Python 3 (ipykernel)",
   "language": "python",
   "name": "python3"
  },
  "language_info": {
   "codemirror_mode": {
    "name": "ipython",
    "version": 3
   },
   "file_extension": ".py",
   "mimetype": "text/x-python",
   "name": "python",
   "nbconvert_exporter": "python",
   "pygments_lexer": "ipython3",
   "version": "3.10.9"
  }
 },
 "nbformat": 4,
 "nbformat_minor": 5
}

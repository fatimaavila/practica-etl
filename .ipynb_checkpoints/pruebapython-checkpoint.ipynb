{
 "cells": [
  {
   "cell_type": "code",
   "execution_count": 1,
   "id": "9840a0c7-a73c-46d2-9c7b-106e0c59db5f",
   "metadata": {
    "tags": []
   },
   "outputs": [
    {
     "name": "stdout",
     "output_type": "stream",
     "text": [
      "funciona\n"
     ]
    }
   ],
   "source": [
    "print(\"funciona\")"
   ]
  },
  {
   "cell_type": "code",
   "execution_count": null,
   "id": "d6d9289c-64c1-459f-abdd-5397e2b79c06",
   "metadata": {},
   "outputs": [],
   "source": []
  }
 ],
 "metadata": {
  "kernelspec": {
   "display_name": "Python 3 (ipykernel)",
   "language": "python",
   "name": "python3"
  },
  "language_info": {
   "codemirror_mode": {
    "name": "ipython",
    "version": 3
   },
   "file_extension": ".py",
   "mimetype": "text/x-python",
   "name": "python",
   "nbconvert_exporter": "python",
   "pygments_lexer": "ipython3",
   "version": "3.10.9"
  }
 },
 "nbformat": 4,
 "nbformat_minor": 5
}
